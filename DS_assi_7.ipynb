{
  "nbformat": 4,
  "nbformat_minor": 0,
  "metadata": {
    "colab": {
      "provenance": []
    },
    "kernelspec": {
      "name": "python3",
      "display_name": "Python 3"
    },
    "language_info": {
      "name": "python"
    }
  },
  "cells": [
    {
      "cell_type": "code",
      "execution_count": 1,
      "metadata": {
        "id": "JSSfFChok7Z6"
      },
      "outputs": [],
      "source": [
        "import nltk\n",
        "from nltk.tokenize import word_tokenize\n",
        "from nltk import pos_tag\n",
        "from nltk.corpus import stopwords\n",
        "from nltk.stem import PorterStemmer, WordNetLemmatizer\n",
        "from sklearn.feature_extraction.text import TfidfVectorizer\n",
        "import string"
      ]
    },
    {
      "cell_type": "code",
      "source": [
        "nltk.download('punkt')\n",
        "nltk.download('averaged_perceptron_tagger')\n",
        "nltk.download('stopwords')\n",
        "nltk.download('wordnet')"
      ],
      "metadata": {
        "colab": {
          "base_uri": "https://localhost:8080/"
        },
        "id": "aySK0m7dlC-n",
        "outputId": "60a24b7e-ed4a-4153-b1b4-d20076e99050"
      },
      "execution_count": 2,
      "outputs": [
        {
          "output_type": "stream",
          "name": "stderr",
          "text": [
            "[nltk_data] Downloading package punkt to /root/nltk_data...\n",
            "[nltk_data]   Unzipping tokenizers/punkt.zip.\n",
            "[nltk_data] Downloading package averaged_perceptron_tagger to\n",
            "[nltk_data]     /root/nltk_data...\n",
            "[nltk_data]   Unzipping taggers/averaged_perceptron_tagger.zip.\n",
            "[nltk_data] Downloading package stopwords to /root/nltk_data...\n",
            "[nltk_data]   Unzipping corpora/stopwords.zip.\n",
            "[nltk_data] Downloading package wordnet to /root/nltk_data...\n"
          ]
        },
        {
          "output_type": "execute_result",
          "data": {
            "text/plain": [
              "True"
            ]
          },
          "metadata": {},
          "execution_count": 2
        }
      ]
    },
    {
      "cell_type": "code",
      "source": [
        "# Sample document\n",
        "sample_document = \"Text analytics is the process of converting unstructured text data into meaningful and actionable information.\"\n",
        "\n",
        "# Tokenization\n",
        "tokens = word_tokenize(sample_document)\n",
        "print(\"Tokenization:\", tokens)\n",
        "Tokenization: ['Text', 'analytics', 'is', 'the', 'process', 'of', 'converting', 'unstructured', 'text', 'data', 'into', 'meaningful', 'and', 'actionable', 'information', '.']"
      ],
      "metadata": {
        "colab": {
          "base_uri": "https://localhost:8080/"
        },
        "id": "cmATFGEblGXt",
        "outputId": "c79d8d0e-8844-432c-aef4-82941df01663"
      },
      "execution_count": 3,
      "outputs": [
        {
          "output_type": "stream",
          "name": "stdout",
          "text": [
            "Tokenization: ['Text', 'analytics', 'is', 'the', 'process', 'of', 'converting', 'unstructured', 'text', 'data', 'into', 'meaningful', 'and', 'actionable', 'information', '.']\n"
          ]
        }
      ]
    },
    {
      "cell_type": "code",
      "source": [
        "# POS Tagging\n",
        "pos_tags = pos_tag(tokens)\n",
        "print(\"\\nPOS Tagging:\", pos_tags)"
      ],
      "metadata": {
        "colab": {
          "base_uri": "https://localhost:8080/"
        },
        "id": "pYWaNsaklJvX",
        "outputId": "72e2d94b-76c1-4266-e70b-4fe47468791b"
      },
      "execution_count": 4,
      "outputs": [
        {
          "output_type": "stream",
          "name": "stdout",
          "text": [
            "\n",
            "POS Tagging: [('Text', 'NN'), ('analytics', 'NNS'), ('is', 'VBZ'), ('the', 'DT'), ('process', 'NN'), ('of', 'IN'), ('converting', 'VBG'), ('unstructured', 'JJ'), ('text', 'NN'), ('data', 'NNS'), ('into', 'IN'), ('meaningful', 'JJ'), ('and', 'CC'), ('actionable', 'JJ'), ('information', 'NN'), ('.', '.')]\n"
          ]
        }
      ]
    },
    {
      "cell_type": "code",
      "source": [
        "# Stopwords removal\n",
        "stop_words = set(stopwords.words('english'))\n",
        "filtered_tokens = [word for word in tokens if word.lower() not in\n",
        "stop_words]\n",
        "print(\"\\nStopwords Removal:\", filtered_tokens)"
      ],
      "metadata": {
        "colab": {
          "base_uri": "https://localhost:8080/"
        },
        "id": "3gWWxrPalNI4",
        "outputId": "36dba3a3-a67e-4da6-802f-9b6b9a709002"
      },
      "execution_count": 5,
      "outputs": [
        {
          "output_type": "stream",
          "name": "stdout",
          "text": [
            "\n",
            "Stopwords Removal: ['Text', 'analytics', 'process', 'converting', 'unstructured', 'text', 'data', 'meaningful', 'actionable', 'information', '.']\n"
          ]
        }
      ]
    },
    {
      "cell_type": "code",
      "source": [
        "# Stemming\n",
        "stemmer = PorterStemmer()\n",
        "stemmed_tokens = [stemmer.stem(word) for word in filtered_tokens]\n",
        "print(\"\\nStemming:\", stemmed_tokens)"
      ],
      "metadata": {
        "colab": {
          "base_uri": "https://localhost:8080/"
        },
        "id": "S6rZUfXLlPWK",
        "outputId": "22693b33-9ed1-4ae3-ef45-5dcd08cd73ce"
      },
      "execution_count": 6,
      "outputs": [
        {
          "output_type": "stream",
          "name": "stdout",
          "text": [
            "\n",
            "Stemming: ['text', 'analyt', 'process', 'convert', 'unstructur', 'text', 'data', 'meaning', 'action', 'inform', '.']\n"
          ]
        }
      ]
    },
    {
      "cell_type": "code",
      "source": [
        "# Lemmatization\n",
        "lemmatizer = WordNetLemmatizer()\n",
        "lemmatized_tokens = [lemmatizer.lemmatize(word) for word in\n",
        "filtered_tokens]\n",
        "print(\"\\nLemmatization:\", lemmatized_tokens)"
      ],
      "metadata": {
        "colab": {
          "base_uri": "https://localhost:8080/"
        },
        "id": "uPtBR2tnlRbP",
        "outputId": "0a3587f6-a945-4e63-f2cc-9aff57a0f6d4"
      },
      "execution_count": 8,
      "outputs": [
        {
          "output_type": "stream",
          "name": "stdout",
          "text": [
            "\n",
            "Lemmatization: ['Text', 'analytics', 'process', 'converting', 'unstructured', 'text', 'data', 'meaningful', 'actionable', 'information', '.']\n"
          ]
        }
      ]
    },
    {
      "cell_type": "code",
      "source": [
        "# Term Frequency - Inverse Document Frequency (TF-IDF) representation\n",
        "tfidf_vectorizer = TfidfVectorizer()\n",
        "tfidf_representation = tfidf_vectorizer.fit_transform([sample_document])\n",
        "print(\"\\nTF-IDF Representation\")\n",
        "print(tfidf_representation)"
      ],
      "metadata": {
        "colab": {
          "base_uri": "https://localhost:8080/"
        },
        "id": "SF7TG_6clT5l",
        "outputId": "b4e75b4e-7476-47a1-b47a-5a647f6f9eea"
      },
      "execution_count": 9,
      "outputs": [
        {
          "output_type": "stream",
          "name": "stdout",
          "text": [
            "\n",
            "TF-IDF Representation\n",
            "  (0, 5)\t0.24253562503633297\n",
            "  (0, 0)\t0.24253562503633297\n",
            "  (0, 2)\t0.24253562503633297\n",
            "  (0, 8)\t0.24253562503633297\n",
            "  (0, 6)\t0.24253562503633297\n",
            "  (0, 4)\t0.24253562503633297\n",
            "  (0, 13)\t0.24253562503633297\n",
            "  (0, 3)\t0.24253562503633297\n",
            "  (0, 9)\t0.24253562503633297\n",
            "  (0, 10)\t0.24253562503633297\n",
            "  (0, 12)\t0.24253562503633297\n",
            "  (0, 7)\t0.24253562503633297\n",
            "  (0, 1)\t0.24253562503633297\n",
            "  (0, 11)\t0.48507125007266594\n"
          ]
        }
      ]
    },
    {
      "cell_type": "code",
      "source": [],
      "metadata": {
        "id": "C0r88Zsalb3I"
      },
      "execution_count": null,
      "outputs": []
    }
  ]
}